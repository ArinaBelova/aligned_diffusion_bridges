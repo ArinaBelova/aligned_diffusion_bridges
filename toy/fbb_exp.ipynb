{
 "cells": [
  {
   "cell_type": "code",
   "execution_count": 1,
   "metadata": {},
   "outputs": [],
   "source": [
    "from sbalign.training.diffusivity import *\n",
    "from torch.distributions.multivariate_normal import MultivariateNormal\n",
    "import matplotlib.pyplot as plt"
   ]
  },
  {
   "cell_type": "code",
   "execution_count": 2,
   "metadata": {},
   "outputs": [
    {
     "name": "stdout",
     "output_type": "stream",
     "text": [
      "torch.Size([1, 1, 1, 1, 1])\n",
      "torch.Size([1, 1, 1, 1, 1])\n"
     ]
    },
    {
     "ename": "IndexError",
     "evalue": "too many indices for tensor of dimension 0",
     "output_type": "error",
     "traceback": [
      "\u001b[0;31m---------------------------------------------------------------------------\u001b[0m",
      "\u001b[0;31mIndexError\u001b[0m                                Traceback (most recent call last)",
      "Cell \u001b[0;32mIn[2], line 10\u001b[0m\n\u001b[1;32m      8\u001b[0m X \u001b[38;5;241m=\u001b[39m torch\u001b[38;5;241m.\u001b[39mzeros(N)\n\u001b[1;32m      9\u001b[0m \u001b[38;5;28;01mfor\u001b[39;00m i,t \u001b[38;5;129;01min\u001b[39;00m \u001b[38;5;28menumerate\u001b[39m(time):\n\u001b[0;32m---> 10\u001b[0m     mean,cov \u001b[38;5;241m=\u001b[39m \u001b[43mfbb\u001b[49m\u001b[38;5;241;43m.\u001b[39;49m\u001b[43mpinned_statistics\u001b[49m\u001b[43m(\u001b[49m\u001b[43mt\u001b[49m\u001b[43m,\u001b[49m\u001b[43ma\u001b[49m\u001b[43m,\u001b[49m\u001b[43mb\u001b[49m\u001b[43m)\u001b[49m\n\u001b[1;32m     11\u001b[0m     mvn \u001b[38;5;241m=\u001b[39m MultivariateNormal(mean,cov)\n\u001b[1;32m     12\u001b[0m     X[i] \u001b[38;5;241m=\u001b[39m mvn\u001b[38;5;241m.\u001b[39msample(sample_shape\u001b[38;5;241m=\u001b[39m(\u001b[38;5;241m1\u001b[39m,))\n",
      "File \u001b[0;32m~/Desktop/aligned_diffusion_bridges/sbalign/training/diffusivity.py:269\u001b[0m, in \u001b[0;36mFBB.pinned_statistics\u001b[0;34m(self, t, a, b)\u001b[0m\n\u001b[1;32m    267\u001b[0m k0T \u001b[38;5;241m=\u001b[39m \u001b[38;5;28mself\u001b[39m\u001b[38;5;241m.\u001b[39mtransition_kernel(\u001b[38;5;241m0\u001b[39m,\u001b[38;5;28mself\u001b[39m\u001b[38;5;241m.\u001b[39mT)\n\u001b[1;32m    268\u001b[0m inv_k0T \u001b[38;5;241m=\u001b[39m torch\u001b[38;5;241m.\u001b[39mlinalg\u001b[38;5;241m.\u001b[39minv(k0T)\n\u001b[0;32m--> 269\u001b[0m k0t \u001b[38;5;241m=\u001b[39m \u001b[38;5;28;43mself\u001b[39;49m\u001b[38;5;241;43m.\u001b[39;49m\u001b[43mtransition_kernel\u001b[49m\u001b[43m(\u001b[49m\u001b[38;5;241;43m0\u001b[39;49m\u001b[43m,\u001b[49m\u001b[43mt\u001b[49m\u001b[43m)\u001b[49m\n\u001b[1;32m    271\u001b[0m mean \u001b[38;5;241m=\u001b[39m ktT \u001b[38;5;241m@\u001b[39m inv_k0T \u001b[38;5;241m@\u001b[39m a \u001b[38;5;241m+\u001b[39m k0t\u001b[38;5;241m.\u001b[39mT \u001b[38;5;241m@\u001b[39m inv_k0T\u001b[38;5;241m.\u001b[39mT \u001b[38;5;241m@\u001b[39m b\n\u001b[1;32m    272\u001b[0m cov \u001b[38;5;241m=\u001b[39m ktT \u001b[38;5;241m@\u001b[39m inv_k0T \u001b[38;5;241m@\u001b[39m k0t\n",
      "File \u001b[0;32m~/Desktop/aligned_diffusion_bridges/sbalign/training/diffusivity.py:281\u001b[0m, in \u001b[0;36mFBB.transition_kernel\u001b[0;34m(self, s, t)\u001b[0m\n\u001b[1;32m    279\u001b[0m lam \u001b[38;5;241m=\u001b[39m torch\u001b[38;5;241m.\u001b[39mcat([torch\u001b[38;5;241m.\u001b[39mtensor([eps]),\u001b[38;5;241m-\u001b[39m\u001b[38;5;28mself\u001b[39m\u001b[38;5;241m.\u001b[39mgamma[\u001b[38;5;241m0\u001b[39m]])\n\u001b[1;32m    280\u001b[0m lam_ij \u001b[38;5;241m=\u001b[39m lam[\u001b[38;5;28;01mNone\u001b[39;00m,:] \u001b[38;5;241m+\u001b[39m lam[:,\u001b[38;5;28;01mNone\u001b[39;00m]\n\u001b[0;32m--> 281\u001b[0m \u001b[38;5;28mprint\u001b[39m(\u001b[38;5;28;43mself\u001b[39;49m\u001b[38;5;241;43m.\u001b[39;49m\u001b[43mG\u001b[49m\u001b[43m(\u001b[49m\u001b[43mt\u001b[49m\u001b[43m)\u001b[49m\u001b[38;5;241m.\u001b[39mshape)\n\u001b[1;32m    282\u001b[0m G \u001b[38;5;241m=\u001b[39m \u001b[38;5;28mself\u001b[39m\u001b[38;5;241m.\u001b[39mG(t)[:,\u001b[38;5;241m0\u001b[39m,\u001b[38;5;241m0\u001b[39m,\u001b[38;5;241m0\u001b[39m,:]\n\u001b[1;32m    283\u001b[0m \u001b[38;5;28;01mreturn\u001b[39;00m ((\u001b[38;5;241m1\u001b[39m\u001b[38;5;241m/\u001b[39m(lam_ij)) \u001b[38;5;241m*\u001b[39m (torch\u001b[38;5;241m.\u001b[39mexp(lam_ij\u001b[38;5;241m*\u001b[39mt)\u001b[38;5;241m-\u001b[39mtorch\u001b[38;5;241m.\u001b[39mexp(lam_ij\u001b[38;5;241m*\u001b[39ms))) \u001b[38;5;241m*\u001b[39m (G[:,:,\u001b[38;5;28;01mNone\u001b[39;00m]\u001b[38;5;241m*\u001b[39mG[:,\u001b[38;5;28;01mNone\u001b[39;00m,:])\n",
      "File \u001b[0;32m~/Desktop/aligned_diffusion_bridges/sbalign/training/diffusivity.py:139\u001b[0m, in \u001b[0;36mFractionalDiffusion.G\u001b[0;34m(self, t)\u001b[0m\n\u001b[1;32m    137\u001b[0m \u001b[38;5;28;01mdef\u001b[39;00m \u001b[38;5;21mG\u001b[39m(\u001b[38;5;28mself\u001b[39m,t):\n\u001b[1;32m    138\u001b[0m     M\u001b[38;5;241m=\u001b[39m\u001b[38;5;241m1\u001b[39m \u001b[38;5;28;01mif\u001b[39;00m \u001b[38;5;28mlen\u001b[39m(t\u001b[38;5;241m.\u001b[39mshape)\u001b[38;5;241m==\u001b[39m\u001b[38;5;241m0\u001b[39m \u001b[38;5;28;01melse\u001b[39;00m t\u001b[38;5;241m.\u001b[39mshape[\u001b[38;5;241m0\u001b[39m]\n\u001b[0;32m--> 139\u001b[0m     \u001b[38;5;28;01mreturn\u001b[39;00m torch\u001b[38;5;241m.\u001b[39mcat([\u001b[43m(\u001b[49m\u001b[38;5;28;43mself\u001b[39;49m\u001b[38;5;241;43m.\u001b[39;49m\u001b[43msum_omega\u001b[49m\u001b[43m \u001b[49m\u001b[38;5;241;43m*\u001b[39;49m\u001b[43m \u001b[49m\u001b[38;5;28;43mself\u001b[39;49m\u001b[38;5;241;43m.\u001b[39;49m\u001b[43mg\u001b[49m\u001b[43m(\u001b[49m\u001b[43mt\u001b[49m\u001b[43m)\u001b[49m\u001b[43m)\u001b[49m\u001b[43m[\u001b[49m\u001b[43m:\u001b[49m\u001b[43m,\u001b[49m\u001b[38;5;28;43;01mNone\u001b[39;49;00m\u001b[43m,\u001b[49m\u001b[38;5;28;43;01mNone\u001b[39;49;00m\u001b[43m,\u001b[49m\u001b[38;5;28;43;01mNone\u001b[39;49;00m\u001b[43m,\u001b[49m\u001b[38;5;28;43;01mNone\u001b[39;49;00m\u001b[43m]\u001b[49m,torch\u001b[38;5;241m.\u001b[39mones(M,\u001b[38;5;28mself\u001b[39m\u001b[38;5;241m.\u001b[39mK,device\u001b[38;5;241m=\u001b[39mt\u001b[38;5;241m.\u001b[39mdevice)[:,\u001b[38;5;28;01mNone\u001b[39;00m,\u001b[38;5;28;01mNone\u001b[39;00m,\u001b[38;5;28;01mNone\u001b[39;00m,:]],dim\u001b[38;5;241m=\u001b[39m\u001b[38;5;241m-\u001b[39m\u001b[38;5;241m1\u001b[39m)\n",
      "\u001b[0;31mIndexError\u001b[0m: too many indices for tensor of dimension 0"
     ]
    }
   ],
   "source": [
    "fbb = FBB(H=0.5, K=0)\n",
    "\n",
    "a = torch.zeros(1)\n",
    "b = torch.ones(1)\n",
    "\n",
    "N=100\n",
    "time = torch.linspace(0,1,N)\n",
    "X = torch.zeros(N)\n",
    "for i,t in enumerate(time):\n",
    "    mean,cov = fbb.pinned_statistics(t,a,b)\n",
    "    mvn = MultivariateNormal(mean,cov)\n",
    "    X[i] = mvn.sample(sample_shape=(1,))\n",
    "\n",
    "plt.plot(X)"
   ]
  },
  {
   "cell_type": "code",
   "execution_count": null,
   "metadata": {},
   "outputs": [],
   "source": []
  },
  {
   "cell_type": "code",
   "execution_count": null,
   "metadata": {},
   "outputs": [],
   "source": []
  }
 ],
 "metadata": {
  "kernelspec": {
   "display_name": "sbalign",
   "language": "python",
   "name": "python3"
  },
  "language_info": {
   "codemirror_mode": {
    "name": "ipython",
    "version": 3
   },
   "file_extension": ".py",
   "mimetype": "text/x-python",
   "name": "python",
   "nbconvert_exporter": "python",
   "pygments_lexer": "ipython3",
   "version": "3.9.19"
  }
 },
 "nbformat": 4,
 "nbformat_minor": 2
}
