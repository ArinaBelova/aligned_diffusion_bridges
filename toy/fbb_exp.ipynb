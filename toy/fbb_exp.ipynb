{
 "cells": [
  {
   "cell_type": "code",
   "execution_count": 1,
   "metadata": {},
   "outputs": [],
   "source": [
    "from sbalign.training.diffusivity import *\n",
    "from torch.distributions.multivariate_normal import MultivariateNormal\n",
    "import matplotlib.pyplot as plt"
   ]
  },
  {
   "cell_type": "code",
   "execution_count": 2,
   "metadata": {},
   "outputs": [
    {
     "name": "stdout",
     "output_type": "stream",
     "text": [
      "lam tensor([ -0.8491,  -1.0000,  -4.4721, -20.0000])\n",
      "lam tensor([ -0.8491,  -1.0000,  -4.4721, -20.0000])\n",
      "lam tensor([ -0.8491,  -1.0000,  -4.4721, -20.0000])\n",
      "lam tensor([ -0.8491,  -1.0000,  -4.4721, -20.0000])\n",
      "lam tensor([ -0.8491,  -1.0000,  -4.4721, -20.0000])\n",
      "lam tensor([ -0.8491,  -1.0000,  -4.4721, -20.0000])\n"
     ]
    },
    {
     "ename": "ValueError",
     "evalue": "Expected parameter covariance_matrix (Tensor of shape (1, 4, 4)) of distribution MultivariateNormal(loc: torch.Size([1, 4]), covariance_matrix: torch.Size([1, 4, 4])) to satisfy the constraint PositiveDefinite(), but found invalid values:\ntensor([[[0.0123, 0.0020, 0.0020, 0.0020],\n         [0.0020, 0.0117, 0.0018, 0.0017],\n         [0.0020, 0.0018, 0.0116, 0.0017],\n         [0.0020, 0.0017, 0.0017, 0.0109]]])",
     "output_type": "error",
     "traceback": [
      "\u001b[0;31m---------------------------------------------------------------------------\u001b[0m",
      "\u001b[0;31mValueError\u001b[0m                                Traceback (most recent call last)",
      "Cell \u001b[0;32mIn[2], line 24\u001b[0m\n\u001b[1;32m     22\u001b[0m t \u001b[38;5;241m=\u001b[39m time[i\u001b[38;5;241m+\u001b[39m\u001b[38;5;241m1\u001b[39m]\n\u001b[1;32m     23\u001b[0m mean,cov \u001b[38;5;241m=\u001b[39m fbb\u001b[38;5;241m.\u001b[39mpinned_statistics(torch\u001b[38;5;241m.\u001b[39mtensor([t]),z,zT)\n\u001b[0;32m---> 24\u001b[0m mvn \u001b[38;5;241m=\u001b[39m \u001b[43mMultivariateNormal\u001b[49m\u001b[43m(\u001b[49m\u001b[43mmean\u001b[49m\u001b[43m,\u001b[49m\u001b[43mcov\u001b[49m\u001b[43m)\u001b[49m\n\u001b[1;32m     25\u001b[0m sample \u001b[38;5;241m=\u001b[39m mvn\u001b[38;5;241m.\u001b[39msample(sample_shape\u001b[38;5;241m=\u001b[39m(\u001b[38;5;241m1\u001b[39m,))\n\u001b[1;32m     26\u001b[0m Z[i\u001b[38;5;241m+\u001b[39m\u001b[38;5;241m1\u001b[39m] \u001b[38;5;241m=\u001b[39m sample\n",
      "File \u001b[0;32m~/.local/lib/python3.10/site-packages/torch/distributions/multivariate_normal.py:150\u001b[0m, in \u001b[0;36mMultivariateNormal.__init__\u001b[0;34m(self, loc, covariance_matrix, precision_matrix, scale_tril, validate_args)\u001b[0m\n\u001b[1;32m    147\u001b[0m \u001b[38;5;28mself\u001b[39m\u001b[38;5;241m.\u001b[39mloc \u001b[38;5;241m=\u001b[39m loc\u001b[38;5;241m.\u001b[39mexpand(batch_shape \u001b[38;5;241m+\u001b[39m (\u001b[38;5;241m-\u001b[39m\u001b[38;5;241m1\u001b[39m,))\n\u001b[1;32m    149\u001b[0m event_shape \u001b[38;5;241m=\u001b[39m \u001b[38;5;28mself\u001b[39m\u001b[38;5;241m.\u001b[39mloc\u001b[38;5;241m.\u001b[39mshape[\u001b[38;5;241m-\u001b[39m\u001b[38;5;241m1\u001b[39m:]\n\u001b[0;32m--> 150\u001b[0m \u001b[38;5;28;43msuper\u001b[39;49m\u001b[43m(\u001b[49m\u001b[43m)\u001b[49m\u001b[38;5;241;43m.\u001b[39;49m\u001b[38;5;21;43m__init__\u001b[39;49m\u001b[43m(\u001b[49m\u001b[43mbatch_shape\u001b[49m\u001b[43m,\u001b[49m\u001b[43m \u001b[49m\u001b[43mevent_shape\u001b[49m\u001b[43m,\u001b[49m\u001b[43m \u001b[49m\u001b[43mvalidate_args\u001b[49m\u001b[38;5;241;43m=\u001b[39;49m\u001b[43mvalidate_args\u001b[49m\u001b[43m)\u001b[49m\n\u001b[1;32m    152\u001b[0m \u001b[38;5;28;01mif\u001b[39;00m scale_tril \u001b[38;5;129;01mis\u001b[39;00m \u001b[38;5;129;01mnot\u001b[39;00m \u001b[38;5;28;01mNone\u001b[39;00m:\n\u001b[1;32m    153\u001b[0m     \u001b[38;5;28mself\u001b[39m\u001b[38;5;241m.\u001b[39m_unbroadcasted_scale_tril \u001b[38;5;241m=\u001b[39m scale_tril\n",
      "File \u001b[0;32m~/.local/lib/python3.10/site-packages/torch/distributions/distribution.py:62\u001b[0m, in \u001b[0;36mDistribution.__init__\u001b[0;34m(self, batch_shape, event_shape, validate_args)\u001b[0m\n\u001b[1;32m     60\u001b[0m         valid \u001b[38;5;241m=\u001b[39m constraint\u001b[38;5;241m.\u001b[39mcheck(value)\n\u001b[1;32m     61\u001b[0m         \u001b[38;5;28;01mif\u001b[39;00m \u001b[38;5;129;01mnot\u001b[39;00m valid\u001b[38;5;241m.\u001b[39mall():\n\u001b[0;32m---> 62\u001b[0m             \u001b[38;5;28;01mraise\u001b[39;00m \u001b[38;5;167;01mValueError\u001b[39;00m(\n\u001b[1;32m     63\u001b[0m                 \u001b[38;5;124mf\u001b[39m\u001b[38;5;124m\"\u001b[39m\u001b[38;5;124mExpected parameter \u001b[39m\u001b[38;5;132;01m{\u001b[39;00mparam\u001b[38;5;132;01m}\u001b[39;00m\u001b[38;5;124m \u001b[39m\u001b[38;5;124m\"\u001b[39m\n\u001b[1;32m     64\u001b[0m                 \u001b[38;5;124mf\u001b[39m\u001b[38;5;124m\"\u001b[39m\u001b[38;5;124m(\u001b[39m\u001b[38;5;132;01m{\u001b[39;00m\u001b[38;5;28mtype\u001b[39m(value)\u001b[38;5;241m.\u001b[39m\u001b[38;5;18m__name__\u001b[39m\u001b[38;5;132;01m}\u001b[39;00m\u001b[38;5;124m of shape \u001b[39m\u001b[38;5;132;01m{\u001b[39;00m\u001b[38;5;28mtuple\u001b[39m(value\u001b[38;5;241m.\u001b[39mshape)\u001b[38;5;132;01m}\u001b[39;00m\u001b[38;5;124m) \u001b[39m\u001b[38;5;124m\"\u001b[39m\n\u001b[1;32m     65\u001b[0m                 \u001b[38;5;124mf\u001b[39m\u001b[38;5;124m\"\u001b[39m\u001b[38;5;124mof distribution \u001b[39m\u001b[38;5;132;01m{\u001b[39;00m\u001b[38;5;28mrepr\u001b[39m(\u001b[38;5;28mself\u001b[39m)\u001b[38;5;132;01m}\u001b[39;00m\u001b[38;5;124m \u001b[39m\u001b[38;5;124m\"\u001b[39m\n\u001b[1;32m     66\u001b[0m                 \u001b[38;5;124mf\u001b[39m\u001b[38;5;124m\"\u001b[39m\u001b[38;5;124mto satisfy the constraint \u001b[39m\u001b[38;5;132;01m{\u001b[39;00m\u001b[38;5;28mrepr\u001b[39m(constraint)\u001b[38;5;132;01m}\u001b[39;00m\u001b[38;5;124m, \u001b[39m\u001b[38;5;124m\"\u001b[39m\n\u001b[1;32m     67\u001b[0m                 \u001b[38;5;124mf\u001b[39m\u001b[38;5;124m\"\u001b[39m\u001b[38;5;124mbut found invalid values:\u001b[39m\u001b[38;5;130;01m\\n\u001b[39;00m\u001b[38;5;132;01m{\u001b[39;00mvalue\u001b[38;5;132;01m}\u001b[39;00m\u001b[38;5;124m\"\u001b[39m\n\u001b[1;32m     68\u001b[0m             )\n\u001b[1;32m     69\u001b[0m \u001b[38;5;28msuper\u001b[39m()\u001b[38;5;241m.\u001b[39m\u001b[38;5;21m__init__\u001b[39m()\n",
      "\u001b[0;31mValueError\u001b[0m: Expected parameter covariance_matrix (Tensor of shape (1, 4, 4)) of distribution MultivariateNormal(loc: torch.Size([1, 4]), covariance_matrix: torch.Size([1, 4, 4])) to satisfy the constraint PositiveDefinite(), but found invalid values:\ntensor([[[0.0123, 0.0020, 0.0020, 0.0020],\n         [0.0020, 0.0117, 0.0018, 0.0017],\n         [0.0020, 0.0018, 0.0116, 0.0017],\n         [0.0020, 0.0017, 0.0017, 0.0109]]])"
     ]
    }
   ],
   "source": [
    "a = 1.0 #start value z_0 of process\n",
    "b = 10.0 #end value z_T of process\n",
    "\n",
    "# so far it only works for K<=2, where for K=2 it only works for H=>0.5 - other K and H result in non positiv definit covariance matrix\n",
    "# todo: check all formulars again\n",
    "\n",
    "H=0.5\n",
    "K=3\n",
    "\n",
    "fbb = FBB(H=H, K=K, gamma_min=1.0,gamma_max=20)\n",
    "\n",
    "N = 1000\n",
    "T = 1.0\n",
    "dt = T/N \n",
    "\n",
    "time = torch.linspace(0,1,N+1)\n",
    "Z = torch.ones(N+1,K+1) * a\n",
    "zT = torch.ones(K+1)*b\n",
    "\n",
    "for i in range(N):\n",
    "    z = Z[i]\n",
    "    t = time[i+1]\n",
    "    mean,cov = fbb.pinned_statistics(torch.tensor([t]),z,zT)\n",
    "    mvn = MultivariateNormal(mean,cov)\n",
    "    sample = mvn.sample(sample_shape=(1,))\n",
    "    Z[i+1] = sample\n",
    "\n",
    "plt.plot(time,Z[:,0],label='X')\n",
    "plt.plot(time,(torch.ones_like(Z)*a)[:,0],label=r'$x_0$')\n",
    "plt.plot(time,(torch.ones_like(Z)*b)[:,0],label=r'$x_T$')\n",
    "plt.legend()\n",
    "plt.show()\n",
    "plt.close()\n",
    "\n",
    "plt.plot(time,Z[:,0],label='X')\n",
    "for k in range(K):\n",
    "    plt.plot(time,Z[:,k+1], label=f'Y{k}')\n",
    "plt.plot(time,(torch.ones_like(Z)*b)[:,0],label=r'$z_T$')\n",
    "plt.legend()\n",
    "plt.show()\n",
    "plt.close()"
   ]
  },
  {
   "cell_type": "code",
   "execution_count": null,
   "metadata": {},
   "outputs": [],
   "source": []
  },
  {
   "cell_type": "code",
   "execution_count": null,
   "metadata": {},
   "outputs": [],
   "source": []
  }
 ],
 "metadata": {
  "kernelspec": {
   "display_name": "sbalign",
   "language": "python",
   "name": "sbalign"
  },
  "language_info": {
   "codemirror_mode": {
    "name": "ipython",
    "version": 3
   },
   "file_extension": ".py",
   "mimetype": "text/x-python",
   "name": "python",
   "nbconvert_exporter": "python",
   "pygments_lexer": "ipython3",
   "version": "3.10.15"
  }
 },
 "nbformat": 4,
 "nbformat_minor": 2
}
